{
 "cells": [
  {
   "cell_type": "code",
   "execution_count": 1,
   "id": "04266c1c-bcbb-41d9-96a4-c7020440b4b3",
   "metadata": {},
   "outputs": [],
   "source": [
    "import pandas as pd\n",
    "from sklearn.cluster import KMeans\n",
    "from sklearn.preprocessing import StandardScaler\n",
    "import matplotlib.pyplot as plt"
   ]
  },
  {
   "cell_type": "code",
   "execution_count": 2,
   "id": "78d57e2f-db0c-4e8e-8f99-db16e4825f70",
   "metadata": {},
   "outputs": [],
   "source": [
    "# Step 1: Load Dataset\n",
    "file_path = 'dataset_corona_cleaned.csv'\n",
    "\n",
    "try:\n",
    "    # Attempt to load the dataset\n",
    "    data = pd.read_csv(file_path, delimiter=',', engine='python')\n",
    "except Exception as e:\n",
    "    print(\"Error loading the file:\", e)\n",
    "    raise\n",
    "\n",
    "# Check and split columns if improperly parsed\n",
    "if len(data.columns) == 1:\n",
    "    data = data.iloc[:, 0].str.split(',', expand=True)\n",
    "\n",
    "# Rename columns manually or dynamically if auto-detected\n",
    "corrected_columns = [\n",
    "    'Object_ID', 'Provinsi', 'Tanggal', 'Kasus_Terkonfirmasi_Akumulatif', \n",
    "    'Penambahan_Harian_Kasus_Terkonfirmasi', 'Kasus_Sembuh_Akumulatif', \n",
    "    'Penambahan_Harian_Kasus_Sembuh', 'Kasus_Meninggal_Akumulatif', \n",
    "    'Penambahan_Harian_Kasus_Meninggal', 'Kasus_Aktif_Akumulatif', \n",
    "    'CFR_Harian', 'RI_Harian', 'FID', 'ObjectId'\n",
    "]\n",
    "\n",
    "if len(data.columns) == len(corrected_columns):\n",
    "    data.columns = corrected_columns\n",
    "else:\n",
    "    print(f\"Column mismatch. Found {len(data.columns)} columns, expected {len(corrected_columns)}.\")\n",
    "    print(\"Detected columns:\", data.columns)\n",
    "    raise ValueError(\"The dataset structure does not match expected column names.\")"
   ]
  },
  {
   "cell_type": "code",
   "execution_count": 4,
   "id": "18924a19-5938-4a2f-b9a4-c3fb0b0ed3d4",
   "metadata": {},
   "outputs": [],
   "source": [
    "import numpy as np\n",
    "\n",
    "# Step 2: Preprocessing Data\n",
    "columns_to_use = [\n",
    "    'Kasus_Terkonfirmasi_Akumulatif', 'Penambahan_Harian_Kasus_Terkonfirmasi',\n",
    "    'Kasus_Sembuh_Akumulatif', 'Penambahan_Harian_Kasus_Sembuh',\n",
    "    'Kasus_Meninggal_Akumulatif', 'Penambahan_Harian_Kasus_Meninggal',\n",
    "    'Kasus_Aktif_Akumulatif', 'CFR_Harian'\n",
    "]\n",
    "\n",
    "# Replace invalid strings like '#DIV/0!' with NaN\n",
    "data[columns_to_use] = data[columns_to_use].replace(['#DIV/0!', 'NaN', 'N/A', ''], np.nan)\n",
    "\n",
    "# Drop rows with NaN values in the relevant columns\n",
    "data_cleaned = data[columns_to_use].dropna()\n",
    "\n",
    "# Standardize the data\n",
    "scaler = StandardScaler()\n",
    "try:\n",
    "    data_scaled = scaler.fit_transform(data_cleaned)\n",
    "except ValueError as e:\n",
    "    print(f\"Error during scaling: {e}\")\n",
    "    print(\"Please verify the input data for remaining invalid values.\")\n",
    "    raise\n"
   ]
  },
  {
   "cell_type": "code",
   "execution_count": 5,
   "id": "dde0baae-6cad-41e7-afc7-54d0a2c80360",
   "metadata": {},
   "outputs": [],
   "source": [
    "# Step 3: Clustering\n",
    "kmeans = KMeans(n_clusters=4, random_state=42)\n",
    "data_cleaned['Cluster'] = kmeans.fit_predict(data_scaled)"
   ]
  },
  {
   "cell_type": "code",
   "execution_count": 6,
   "id": "3f75a909-e7c0-470b-8c86-202d1aabf38b",
   "metadata": {},
   "outputs": [],
   "source": [
    "# Map clusters to zones\n",
    "zone_mapping = {0: 'Hitam', 1: 'Merah', 2: 'Kuning', 3: 'Hijau'}\n",
    "data_cleaned['Zone'] = data_cleaned['Cluster'].map(zone_mapping)"
   ]
  },
  {
   "cell_type": "code",
   "execution_count": 7,
   "id": "50b6e4c5-1cc0-40ee-a37b-4e1a89959b86",
   "metadata": {},
   "outputs": [
    {
     "name": "stdout",
     "output_type": "stream",
     "text": [
      "Final clustered data saved as 'final_clustered_data.csv'.\n"
     ]
    }
   ],
   "source": [
    "# Save clustered data\n",
    "data_cleaned.to_csv('final_clustered_data.csv', index=False)\n",
    "print(\"Final clustered data saved as 'final_clustered_data.csv'.\")"
   ]
  },
  {
   "cell_type": "code",
   "execution_count": null,
   "id": "64001ade-7b7a-4e98-a317-9550eb037ca3",
   "metadata": {},
   "outputs": [],
   "source": []
  }
 ],
 "metadata": {
  "kernelspec": {
   "display_name": "Python 3 (ipykernel)",
   "language": "python",
   "name": "python3"
  },
  "language_info": {
   "codemirror_mode": {
    "name": "ipython",
    "version": 3
   },
   "file_extension": ".py",
   "mimetype": "text/x-python",
   "name": "python",
   "nbconvert_exporter": "python",
   "pygments_lexer": "ipython3",
   "version": "3.12.2"
  }
 },
 "nbformat": 4,
 "nbformat_minor": 5
}
